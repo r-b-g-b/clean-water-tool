{
 "cells": [
  {
   "cell_type": "code",
   "execution_count": 1,
   "metadata": {},
   "outputs": [],
   "source": [
    "%matplotlib inline"
   ]
  },
  {
   "cell_type": "code",
   "execution_count": 2,
   "metadata": {},
   "outputs": [],
   "source": [
    "import matplotlib.pyplot as plt\n",
    "import numpy as np\n",
    "import pandas as pd\n",
    "from src.config import DATA_DIRECTORY\n",
    "\n",
    "\n",
    "def get_last_ended_action(group):\n",
    "    \"\"\"Return the enforcement action with the most recent VIOL_END_DATE\"\"\"\n",
    "    return group.sort_values(by='ENF_ACTION_ISSUE_DATE', ascending=False).iloc[0]\n",
    "\n",
    "\n",
    "pd.set_option(\"display.max_columns\", 999)"
   ]
  },
  {
   "cell_type": "markdown",
   "metadata": {},
   "source": [
    "# Load the table of compliance violations"
   ]
  },
  {
   "cell_type": "code",
   "execution_count": 3,
   "metadata": {},
   "outputs": [],
   "source": [
    "df = pd.read_csv(DATA_DIRECTORY / 'interim' / 'hr2w_exceedance.csv')"
   ]
  },
  {
   "cell_type": "markdown",
   "metadata": {},
   "source": [
    "### A sample of violations"
   ]
  },
  {
   "cell_type": "code",
   "execution_count": 4,
   "metadata": {},
   "outputs": [
    {
     "data": {
      "text/html": [
       "<div>\n",
       "<style scoped>\n",
       "    .dataframe tbody tr th:only-of-type {\n",
       "        vertical-align: middle;\n",
       "    }\n",
       "\n",
       "    .dataframe tbody tr th {\n",
       "        vertical-align: top;\n",
       "    }\n",
       "\n",
       "    .dataframe thead th {\n",
       "        text-align: right;\n",
       "    }\n",
       "</style>\n",
       "<table border=\"1\" class=\"dataframe\">\n",
       "  <thead>\n",
       "    <tr style=\"text-align: right;\">\n",
       "      <th></th>\n",
       "      <th>REGULATING_AGENCY</th>\n",
       "      <th>WATER_SYSTEM_NUMBER</th>\n",
       "      <th>WATER_SYSTEM_NAME</th>\n",
       "      <th>CLASSIFICATION</th>\n",
       "      <th>POPULATION</th>\n",
       "      <th>SERVICE_CONNECTIONS</th>\n",
       "      <th>COUNTY</th>\n",
       "      <th>CITY</th>\n",
       "      <th>ZIPCODE</th>\n",
       "      <th>VIOLATION_NUMBER</th>\n",
       "      <th>VIOLATION_TYPE_NAME</th>\n",
       "      <th>ANALYTE_NAME</th>\n",
       "      <th>RESULT</th>\n",
       "      <th>MCL</th>\n",
       "      <th>VIOL_BEGIN_DATE</th>\n",
       "      <th>VIOL_END_DATE</th>\n",
       "      <th>ENF_ACTION_NUMBER</th>\n",
       "      <th>ENF_ACTION_ISSUE_DATE</th>\n",
       "      <th>ENF_ACTION_TYPE_ISSUED</th>\n",
       "    </tr>\n",
       "  </thead>\n",
       "  <tbody>\n",
       "    <tr>\n",
       "      <th>5846</th>\n",
       "      <td>DISTRICT 24 - TULARE</td>\n",
       "      <td>CA5400616</td>\n",
       "      <td>LEMON COVE WATER CO</td>\n",
       "      <td>COMMUNITY</td>\n",
       "      <td>109</td>\n",
       "      <td>60</td>\n",
       "      <td>TULARE</td>\n",
       "      <td>LEMON COVE</td>\n",
       "      <td>93244</td>\n",
       "      <td>9800004</td>\n",
       "      <td>MCL, SINGLE SAMPLE</td>\n",
       "      <td>NITRATE</td>\n",
       "      <td>13.8 MG/L</td>\n",
       "      <td>10 MG/L</td>\n",
       "      <td>2015-10-01</td>\n",
       "      <td>2015-12-31</td>\n",
       "      <td>1204165</td>\n",
       "      <td>2015-11-05</td>\n",
       "      <td>FORMAL ENFORCEMENT ACTION ISSUED</td>\n",
       "    </tr>\n",
       "    <tr>\n",
       "      <th>661</th>\n",
       "      <td>DISTRICT 23 - FRESNO</td>\n",
       "      <td>CA1009006</td>\n",
       "      <td>PAPPAS &amp; CO (COALINGA)</td>\n",
       "      <td>COMMUNITY</td>\n",
       "      <td>25</td>\n",
       "      <td>11</td>\n",
       "      <td>FRESNO</td>\n",
       "      <td>FRESNO</td>\n",
       "      <td>93711</td>\n",
       "      <td>9800024</td>\n",
       "      <td>MONTHLY COMB. FILTER EFFLUENT (SWTR</td>\n",
       "      <td>TURBIDITY</td>\n",
       "      <td></td>\n",
       "      <td></td>\n",
       "      <td>2015-04-01</td>\n",
       "      <td>2015-04-30</td>\n",
       "      <td>9600034</td>\n",
       "      <td>2015-07-07</td>\n",
       "      <td>INFORMAL ENFORCEMENT ACTION ISSUED</td>\n",
       "    </tr>\n",
       "    <tr>\n",
       "      <th>3726</th>\n",
       "      <td>LPA57 - MONTEREY COUNTY</td>\n",
       "      <td>CA2700799</td>\n",
       "      <td>VISTA DEL TORO WS</td>\n",
       "      <td>COMMUNITY</td>\n",
       "      <td>87</td>\n",
       "      <td>29</td>\n",
       "      <td>MONTEREY</td>\n",
       "      <td>SALINAS</td>\n",
       "      <td>93908</td>\n",
       "      <td>1400025</td>\n",
       "      <td>MCL, SINGLE SAMPLE</td>\n",
       "      <td>ARSENIC</td>\n",
       "      <td>.015 MG/L</td>\n",
       "      <td>0.010 MG/L</td>\n",
       "      <td>2013-10-01</td>\n",
       "      <td>2013-12-31</td>\n",
       "      <td>1606156</td>\n",
       "      <td>2015-10-01</td>\n",
       "      <td>FORMAL ENFORCEMENT ACTION ISSUED</td>\n",
       "    </tr>\n",
       "    <tr>\n",
       "      <th>641</th>\n",
       "      <td>DISTRICT 23 - FRESNO</td>\n",
       "      <td>CA1009006</td>\n",
       "      <td>PAPPAS &amp; CO (COALINGA)</td>\n",
       "      <td>COMMUNITY</td>\n",
       "      <td>25</td>\n",
       "      <td>11</td>\n",
       "      <td>FRESNO</td>\n",
       "      <td>FRESNO</td>\n",
       "      <td>93711</td>\n",
       "      <td>9800012</td>\n",
       "      <td>MCL,  AVERAGE</td>\n",
       "      <td>TTHM</td>\n",
       "      <td>0.145 MG/L</td>\n",
       "      <td>0.080 MG/L</td>\n",
       "      <td>2013-10-01</td>\n",
       "      <td>2013-12-31</td>\n",
       "      <td>923027</td>\n",
       "      <td>2008-10-30</td>\n",
       "      <td>FORMAL ENFORCEMENT ACTION ISSUED</td>\n",
       "    </tr>\n",
       "    <tr>\n",
       "      <th>4082</th>\n",
       "      <td>LPA57 - MONTEREY COUNTY</td>\n",
       "      <td>CA2701241</td>\n",
       "      <td>ENCINAL RD WS #01</td>\n",
       "      <td>COMMUNITY</td>\n",
       "      <td>41</td>\n",
       "      <td>18</td>\n",
       "      <td>MONTEREY</td>\n",
       "      <td>SALINAS</td>\n",
       "      <td>93908</td>\n",
       "      <td>1600033</td>\n",
       "      <td>MCL, SINGLE SAMPLE</td>\n",
       "      <td>NITRATE</td>\n",
       "      <td>45 MG/L</td>\n",
       "      <td>10 MG/L</td>\n",
       "      <td>2016-07-01</td>\n",
       "      <td>2016-09-30</td>\n",
       "      <td>1305698</td>\n",
       "      <td>2013-06-10</td>\n",
       "      <td>OTHER INFORMAL ENFORCEMENT ACTION TAKEN</td>\n",
       "    </tr>\n",
       "    <tr>\n",
       "      <th>4739</th>\n",
       "      <td>LPA66 - SAN BERNARDINO COUNTY</td>\n",
       "      <td>CA3600086</td>\n",
       "      <td>DAGGETT COMM SVCS DIST</td>\n",
       "      <td>COMMUNITY</td>\n",
       "      <td>795</td>\n",
       "      <td>195</td>\n",
       "      <td>SAN BERNARDINO</td>\n",
       "      <td>DAGGETT</td>\n",
       "      <td>92327</td>\n",
       "      <td>1300006</td>\n",
       "      <td>MCL,  AVERAGE</td>\n",
       "      <td>COMBINED URANIUM</td>\n",
       "      <td>32.5 PCI/L</td>\n",
       "      <td>20 PCI/L</td>\n",
       "      <td>2018-10-01</td>\n",
       "      <td>2018-12-31</td>\n",
       "      <td>1300090</td>\n",
       "      <td>2017-11-22</td>\n",
       "      <td>FORMAL ENFORCEMENT ACTION ISSUED</td>\n",
       "    </tr>\n",
       "    <tr>\n",
       "      <th>4707</th>\n",
       "      <td>LPA66 - SAN BERNARDINO COUNTY</td>\n",
       "      <td>CA3600012</td>\n",
       "      <td>APPLE VALLEY VIEW MWC</td>\n",
       "      <td>COMMUNITY</td>\n",
       "      <td>275</td>\n",
       "      <td>81</td>\n",
       "      <td>SAN BERNARDINO</td>\n",
       "      <td>APPLE VALLEY</td>\n",
       "      <td>92307</td>\n",
       "      <td>1700022</td>\n",
       "      <td>MCL,  AVERAGE</td>\n",
       "      <td>FLUORIDE</td>\n",
       "      <td>2.8 MG/L</td>\n",
       "      <td>2 MG/L</td>\n",
       "      <td>2018-07-01</td>\n",
       "      <td>2018-09-30</td>\n",
       "      <td>1400125</td>\n",
       "      <td>2017-07-14</td>\n",
       "      <td>FORMAL ENFORCEMENT ACTION ISSUED</td>\n",
       "    </tr>\n",
       "    <tr>\n",
       "      <th>1173</th>\n",
       "      <td>DISTRICT 23 - FRESNO</td>\n",
       "      <td>CA1010044</td>\n",
       "      <td>HURON, CITY OF</td>\n",
       "      <td>COMMUNITY</td>\n",
       "      <td>7306</td>\n",
       "      <td>876</td>\n",
       "      <td>FRESNO</td>\n",
       "      <td>HURON</td>\n",
       "      <td>93234</td>\n",
       "      <td>9611013</td>\n",
       "      <td>MCL,  AVERAGE</td>\n",
       "      <td>TOTAL HALOACETIC ACIDS (HAA5)</td>\n",
       "      <td>0.0802 MG/L</td>\n",
       "      <td>0.060 MG/L</td>\n",
       "      <td>2014-07-01</td>\n",
       "      <td>2014-09-30</td>\n",
       "      <td>9712012</td>\n",
       "      <td>2014-10-06</td>\n",
       "      <td>FORMAL ENFORCEMENT ACTION ISSUED</td>\n",
       "    </tr>\n",
       "    <tr>\n",
       "      <th>1390</th>\n",
       "      <td>DISTRICT 12 - VISALIA</td>\n",
       "      <td>CA1500378</td>\n",
       "      <td>MAHER MUTUAL WATER COMPANY</td>\n",
       "      <td>COMMUNITY</td>\n",
       "      <td>150</td>\n",
       "      <td>50</td>\n",
       "      <td>KERN</td>\n",
       "      <td>BAKERSFIELD</td>\n",
       "      <td>93312</td>\n",
       "      <td>9812028</td>\n",
       "      <td>MCL,  AVERAGE</td>\n",
       "      <td>ARSENIC</td>\n",
       "      <td>0.021 MG/L</td>\n",
       "      <td>0.010 MG/L</td>\n",
       "      <td>2017-07-01</td>\n",
       "      <td>2017-09-30</td>\n",
       "      <td>9819011</td>\n",
       "      <td>2015-05-26</td>\n",
       "      <td>FORMAL ENFORCEMENT ACTION ISSUED</td>\n",
       "    </tr>\n",
       "    <tr>\n",
       "      <th>3210</th>\n",
       "      <td>DISTRICT 11 - MERCED</td>\n",
       "      <td>CA2010007</td>\n",
       "      <td>HILLVIEW WC-OAKHURST/SIERRA LAKES</td>\n",
       "      <td>COMMUNITY</td>\n",
       "      <td>3818</td>\n",
       "      <td>1043</td>\n",
       "      <td>MADERA</td>\n",
       "      <td>OAKHURST</td>\n",
       "      <td>93644</td>\n",
       "      <td>9911015</td>\n",
       "      <td>MCL,  AVERAGE</td>\n",
       "      <td>ARSENIC</td>\n",
       "      <td>0.031 MG/L</td>\n",
       "      <td>0.010 MG/L</td>\n",
       "      <td>2014-01-01</td>\n",
       "      <td>2014-03-31</td>\n",
       "      <td>9911011</td>\n",
       "      <td>2016-01-25</td>\n",
       "      <td>STATE INTENTIONAL NO ACTION TAKEN</td>\n",
       "    </tr>\n",
       "  </tbody>\n",
       "</table>\n",
       "</div>"
      ],
      "text/plain": [
       "                  REGULATING_AGENCY WATER_SYSTEM_NUMBER  \\\n",
       "5846           DISTRICT 24 - TULARE           CA5400616   \n",
       "661            DISTRICT 23 - FRESNO           CA1009006   \n",
       "3726        LPA57 - MONTEREY COUNTY           CA2700799   \n",
       "641            DISTRICT 23 - FRESNO           CA1009006   \n",
       "4082        LPA57 - MONTEREY COUNTY           CA2701241   \n",
       "4739  LPA66 - SAN BERNARDINO COUNTY           CA3600086   \n",
       "4707  LPA66 - SAN BERNARDINO COUNTY           CA3600012   \n",
       "1173           DISTRICT 23 - FRESNO           CA1010044   \n",
       "1390          DISTRICT 12 - VISALIA           CA1500378   \n",
       "3210           DISTRICT 11 - MERCED           CA2010007   \n",
       "\n",
       "                      WATER_SYSTEM_NAME CLASSIFICATION  POPULATION  \\\n",
       "5846                LEMON COVE WATER CO      COMMUNITY         109   \n",
       "661              PAPPAS & CO (COALINGA)      COMMUNITY          25   \n",
       "3726                  VISTA DEL TORO WS      COMMUNITY          87   \n",
       "641              PAPPAS & CO (COALINGA)      COMMUNITY          25   \n",
       "4082                  ENCINAL RD WS #01      COMMUNITY          41   \n",
       "4739             DAGGETT COMM SVCS DIST      COMMUNITY         795   \n",
       "4707              APPLE VALLEY VIEW MWC      COMMUNITY         275   \n",
       "1173                     HURON, CITY OF      COMMUNITY        7306   \n",
       "1390         MAHER MUTUAL WATER COMPANY      COMMUNITY         150   \n",
       "3210  HILLVIEW WC-OAKHURST/SIERRA LAKES      COMMUNITY        3818   \n",
       "\n",
       "      SERVICE_CONNECTIONS          COUNTY          CITY  ZIPCODE  \\\n",
       "5846                   60          TULARE    LEMON COVE    93244   \n",
       "661                    11          FRESNO        FRESNO    93711   \n",
       "3726                   29        MONTEREY       SALINAS    93908   \n",
       "641                    11          FRESNO        FRESNO    93711   \n",
       "4082                   18        MONTEREY       SALINAS    93908   \n",
       "4739                  195  SAN BERNARDINO       DAGGETT    92327   \n",
       "4707                   81  SAN BERNARDINO  APPLE VALLEY    92307   \n",
       "1173                  876          FRESNO         HURON    93234   \n",
       "1390                   50            KERN   BAKERSFIELD    93312   \n",
       "3210                 1043          MADERA      OAKHURST    93644   \n",
       "\n",
       "      VIOLATION_NUMBER                  VIOLATION_TYPE_NAME  \\\n",
       "5846           9800004                   MCL, SINGLE SAMPLE   \n",
       "661            9800024  MONTHLY COMB. FILTER EFFLUENT (SWTR   \n",
       "3726           1400025                   MCL, SINGLE SAMPLE   \n",
       "641            9800012                        MCL,  AVERAGE   \n",
       "4082           1600033                   MCL, SINGLE SAMPLE   \n",
       "4739           1300006                        MCL,  AVERAGE   \n",
       "4707           1700022                        MCL,  AVERAGE   \n",
       "1173           9611013                        MCL,  AVERAGE   \n",
       "1390           9812028                        MCL,  AVERAGE   \n",
       "3210           9911015                        MCL,  AVERAGE   \n",
       "\n",
       "                       ANALYTE_NAME       RESULT         MCL VIOL_BEGIN_DATE  \\\n",
       "5846                        NITRATE    13.8 MG/L     10 MG/L      2015-10-01   \n",
       "661                       TURBIDITY                               2015-04-01   \n",
       "3726                        ARSENIC    .015 MG/L  0.010 MG/L      2013-10-01   \n",
       "641                            TTHM   0.145 MG/L  0.080 MG/L      2013-10-01   \n",
       "4082                        NITRATE      45 MG/L     10 MG/L      2016-07-01   \n",
       "4739               COMBINED URANIUM   32.5 PCI/L    20 PCI/L      2018-10-01   \n",
       "4707                       FLUORIDE     2.8 MG/L      2 MG/L      2018-07-01   \n",
       "1173  TOTAL HALOACETIC ACIDS (HAA5)  0.0802 MG/L  0.060 MG/L      2014-07-01   \n",
       "1390                        ARSENIC   0.021 MG/L  0.010 MG/L      2017-07-01   \n",
       "3210                        ARSENIC   0.031 MG/L  0.010 MG/L      2014-01-01   \n",
       "\n",
       "     VIOL_END_DATE ENF_ACTION_NUMBER ENF_ACTION_ISSUE_DATE  \\\n",
       "5846    2015-12-31           1204165            2015-11-05   \n",
       "661     2015-04-30           9600034            2015-07-07   \n",
       "3726    2013-12-31           1606156            2015-10-01   \n",
       "641     2013-12-31            923027            2008-10-30   \n",
       "4082    2016-09-30           1305698            2013-06-10   \n",
       "4739    2018-12-31           1300090            2017-11-22   \n",
       "4707    2018-09-30           1400125            2017-07-14   \n",
       "1173    2014-09-30           9712012            2014-10-06   \n",
       "1390    2017-09-30           9819011            2015-05-26   \n",
       "3210    2014-03-31           9911011            2016-01-25   \n",
       "\n",
       "                       ENF_ACTION_TYPE_ISSUED  \n",
       "5846         FORMAL ENFORCEMENT ACTION ISSUED  \n",
       "661        INFORMAL ENFORCEMENT ACTION ISSUED  \n",
       "3726         FORMAL ENFORCEMENT ACTION ISSUED  \n",
       "641          FORMAL ENFORCEMENT ACTION ISSUED  \n",
       "4082  OTHER INFORMAL ENFORCEMENT ACTION TAKEN  \n",
       "4739         FORMAL ENFORCEMENT ACTION ISSUED  \n",
       "4707         FORMAL ENFORCEMENT ACTION ISSUED  \n",
       "1173         FORMAL ENFORCEMENT ACTION ISSUED  \n",
       "1390         FORMAL ENFORCEMENT ACTION ISSUED  \n",
       "3210        STATE INTENTIONAL NO ACTION TAKEN  "
      ]
     },
     "execution_count": 4,
     "metadata": {},
     "output_type": "execute_result"
    }
   ],
   "source": [
    "df.sample(10)"
   ]
  },
  {
   "cell_type": "code",
   "execution_count": 5,
   "metadata": {},
   "outputs": [
    {
     "data": {
      "image/png": "[encoded data removed]",
      "text/plain": [
       "<Figure size 864x288 with 2 Axes>"
      ]
     },
     "metadata": {
      "needs_background": "light"
     },
     "output_type": "display_data"
    }
   ],
   "source": [
    "fig, axs = plt.subplots(1, 2, figsize=(12, 4))\n",
    "df.ENF_ACTION_TYPE_ISSUED.value_counts().plot.bar(title='Enforcement action type issued', ax=axs[0]);\n",
    "df.ANALYTE_NAME.value_counts().plot.bar(title='Analyte name', ax=axs[1]);"
   ]
  },
  {
   "cell_type": "code",
   "execution_count": 6,
   "metadata": {},
   "outputs": [
    {
     "data": {
      "text/plain": [
       "FORMAL ENFORCEMENT ACTION ISSUED                 5009\n",
       "STATE INTENTIONAL NO ACTION TAKEN                 356\n",
       "RETURN TO COMPLIANCE                              329\n",
       "OTHER INFORMAL ENFORCEMENT ACTION TAKEN           311\n",
       "INFORMAL ENFORCEMENT ACTION ISSUED                204\n",
       "CA STATE ACTION ISSUED                            169\n",
       "FORMAL ENFORCEMENT ACTION WITH PENALTY ISSUED      62\n",
       "US EPA FEDERAL ADMINSTRATIVE ORDER ON CONSENT      27\n",
       "Name: ENF_ACTION_TYPE_ISSUED, dtype: int64"
      ]
     },
     "execution_count": 6,
     "metadata": {},
     "output_type": "execute_result"
    }
   ],
   "source": [
    "df.ENF_ACTION_TYPE_ISSUED.value_counts()"
   ]
  },
  {
   "cell_type": "code",
   "execution_count": 7,
   "metadata": {},
   "outputs": [],
   "source": [
    "groups = df.groupby(['WATER_SYSTEM_NUMBER', 'ANALYTE_NAME'])\n",
    "last_ended_action = groups.apply(get_last_ended_action)"
   ]
  },
  {
   "cell_type": "markdown",
   "metadata": {},
   "source": [
    "Do not include water system/analyte combinations that ended with a return to compliance"
   ]
  },
  {
   "cell_type": "code",
   "execution_count": 8,
   "metadata": {},
   "outputs": [],
   "source": [
    "last_ended_action = last_ended_action[last_ended_action.ENF_ACTION_TYPE_ISSUED != 'RETURN TO COMPLIANCE']\n",
    "last_ended_action.reset_index(drop=True, inplace=True)"
   ]
  },
  {
   "cell_type": "markdown",
   "metadata": {},
   "source": [
    "# There are 324 water systems with at least one analyte out of compliance"
   ]
  },
  {
   "cell_type": "code",
   "execution_count": 9,
   "metadata": {},
   "outputs": [
    {
     "name": "stdout",
     "output_type": "stream",
     "text": [
      "324 water systems with at least one analyte out of compliance\n"
     ]
    }
   ],
   "source": [
    "groups = last_ended_action.groupby('WATER_SYSTEM_NUMBER')\n",
    "print(f\"{len(groups)} water systems with at least one analyte out of compliance\")"
   ]
  },
  {
   "cell_type": "markdown",
   "metadata": {},
   "source": [
    "We also compute a histogram of number of water systems with different numbers of analytes out of compliance."
   ]
  },
  {
   "cell_type": "code",
   "execution_count": 10,
   "metadata": {},
   "outputs": [
    {
     "data": {
      "image/png": "[encoded data removed]",
      "text/plain": [
       "<Figure size 432x288 with 1 Axes>"
      ]
     },
     "metadata": {
      "needs_background": "light"
     },
     "output_type": "display_data"
    }
   ],
   "source": [
    "fig, ax = plt.subplots();\n",
    "counts = groups.apply(lambda x: len(x)).sort_values(ascending=False)\n",
    "counts.hist(bins=np.arange(1, max(counts) + 1, 1));\n",
    "ax.set_xlabel('Number of analytes out of compliance');\n",
    "ax.set_ylabel('Number of water systems');"
   ]
  }
 ],
 "metadata": {
  "kernelspec": {
   "display_name": "Python 3",
   "language": "python",
   "name": "python3"
  },
  "language_info": {
   "codemirror_mode": {
    "name": "ipython",
    "version": 3
   },
   "file_extension": ".py",
   "mimetype": "text/x-python",
   "name": "python",
   "nbconvert_exporter": "python",
   "pygments_lexer": "ipython3",
   "version": "3.7.3"
  }
 },
 "nbformat": 4,
 "nbformat_minor": 2
}
