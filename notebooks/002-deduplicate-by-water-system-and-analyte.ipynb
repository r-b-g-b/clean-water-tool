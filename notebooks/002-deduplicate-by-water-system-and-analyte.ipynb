{
 "cells": [
  {
   "cell_type": "code",
   "execution_count": 1,
   "metadata": {},
   "outputs": [],
   "source": [
    "%matplotlib inline"
   ]
  },
  {
   "cell_type": "code",
   "execution_count": 2,
   "metadata": {},
   "outputs": [],
   "source": [
    "import matplotlib.pyplot as plt\n",
    "import numpy as np\n",
    "import pandas as pd\n",
    "from src.config import DATA_DIRECTORY\n",
    "from src import utils\n",
    "\n",
    "def get_last_ended_action(group):\n",
    "    \"\"\"Return the enforcement action with the most recent VIOL_END_DATE\"\"\"\n",
    "    return group.sort_values(by='VIOL_END_DATE', na_position='first', ascending=False).iloc[0]\n",
    "\n",
    "\n",
    "pd.set_option(\"display.max_columns\", 999)"
   ]
  },
  {
   "cell_type": "markdown",
   "metadata": {},
   "source": [
    "# Load the table of compliance violations"
   ]
  },
  {
   "cell_type": "code",
   "execution_count": 3,
   "metadata": {},
   "outputs": [],
   "source": [
    "df = pd.read_csv(DATA_DIRECTORY / 'interim' / 'hr2w_exceedance.csv')"
   ]
  },
  {
   "cell_type": "markdown",
   "metadata": {},
   "source": [
    "### A sample of violations"
   ]
  },
  {
   "cell_type": "code",
   "execution_count": 4,
   "metadata": {},
   "outputs": [
    {
     "data": {
      "text/html": [
       "<div>\n",
       "<style scoped>\n",
       "    .dataframe tbody tr th:only-of-type {\n",
       "        vertical-align: middle;\n",
       "    }\n",
       "\n",
       "    .dataframe tbody tr th {\n",
       "        vertical-align: top;\n",
       "    }\n",
       "\n",
       "    .dataframe thead th {\n",
       "        text-align: right;\n",
       "    }\n",
       "</style>\n",
       "<table border=\"1\" class=\"dataframe\">\n",
       "  <thead>\n",
       "    <tr style=\"text-align: right;\">\n",
       "      <th></th>\n",
       "      <th>REGULATING_AGENCY</th>\n",
       "      <th>WATER_SYSTEM_NUMBER</th>\n",
       "      <th>WATER_SYSTEM_NAME</th>\n",
       "      <th>CLASSIFICATION</th>\n",
       "      <th>POPULATION</th>\n",
       "      <th>SERVICE_CONNECTIONS</th>\n",
       "      <th>COUNTY</th>\n",
       "      <th>CITY</th>\n",
       "      <th>ZIPCODE</th>\n",
       "      <th>VIOLATION_NUMBER</th>\n",
       "      <th>VIOLATION_TYPE_NAME</th>\n",
       "      <th>ANALYTE_NAME</th>\n",
       "      <th>RESULT</th>\n",
       "      <th>MCL</th>\n",
       "      <th>VIOL_BEGIN_DATE</th>\n",
       "      <th>VIOL_END_DATE</th>\n",
       "      <th>ENF_ACTION_NUMBER</th>\n",
       "      <th>ENF_ACTION_ISSUE_DATE</th>\n",
       "      <th>ENF_ACTION_TYPE_ISSUED</th>\n",
       "    </tr>\n",
       "  </thead>\n",
       "  <tbody>\n",
       "    <tr>\n",
       "      <th>3577</th>\n",
       "      <td>DISTRICT 13 - SAN BERNARDINO</td>\n",
       "      <td>CA2610003</td>\n",
       "      <td>BRIDGEPORT PUD</td>\n",
       "      <td>COMMUNITY</td>\n",
       "      <td>2150</td>\n",
       "      <td>293</td>\n",
       "      <td>MONO</td>\n",
       "      <td>BRIDGEPORT</td>\n",
       "      <td>93517</td>\n",
       "      <td>9913029</td>\n",
       "      <td>MCL,  AVERAGE</td>\n",
       "      <td>ARSENIC</td>\n",
       "      <td>0.0245 MG/L</td>\n",
       "      <td></td>\n",
       "      <td>2018-04-01</td>\n",
       "      <td>2018-06-30</td>\n",
       "      <td>9913012</td>\n",
       "      <td>2015-03-06</td>\n",
       "      <td>FORMAL ENFORCEMENT ACTION ISSUED</td>\n",
       "    </tr>\n",
       "    <tr>\n",
       "      <th>1951</th>\n",
       "      <td>DISTRICT 12 - VISALIA</td>\n",
       "      <td>CA1500585</td>\n",
       "      <td>OASIS PROPERTY OWNERS ASSOCIATION</td>\n",
       "      <td>COMMUNITY</td>\n",
       "      <td>100</td>\n",
       "      <td>39</td>\n",
       "      <td>KERN</td>\n",
       "      <td>BAKERSFIELD</td>\n",
       "      <td>93307</td>\n",
       "      <td>9512008</td>\n",
       "      <td>MCL,  AVERAGE</td>\n",
       "      <td>ARSENIC</td>\n",
       "      <td>0.011 MG/L</td>\n",
       "      <td>0.010 MG/L</td>\n",
       "      <td>2014-01-01</td>\n",
       "      <td>2014-03-31</td>\n",
       "      <td>919013</td>\n",
       "      <td>2009-01-23</td>\n",
       "      <td>FORMAL ENFORCEMENT ACTION ISSUED</td>\n",
       "    </tr>\n",
       "    <tr>\n",
       "      <th>1551</th>\n",
       "      <td>DISTRICT 19 - TEHACHAPI</td>\n",
       "      <td>CA1500442</td>\n",
       "      <td>SUNSET APARTMENTS WS</td>\n",
       "      <td>COMMUNITY</td>\n",
       "      <td>37</td>\n",
       "      <td>20</td>\n",
       "      <td>KERN</td>\n",
       "      <td>NORTH EDWARDS</td>\n",
       "      <td>93523</td>\n",
       "      <td>9612010</td>\n",
       "      <td>MCL,  AVERAGE</td>\n",
       "      <td>ARSENIC</td>\n",
       "      <td>0.039 MG/L</td>\n",
       "      <td>0.010 MG/L</td>\n",
       "      <td>2013-07-01</td>\n",
       "      <td>2013-09-30</td>\n",
       "      <td>919015</td>\n",
       "      <td>2009-01-28</td>\n",
       "      <td>FORMAL ENFORCEMENT ACTION ISSUED</td>\n",
       "    </tr>\n",
       "    <tr>\n",
       "      <th>5416</th>\n",
       "      <td>DISTRICT 18 - SONOMA</td>\n",
       "      <td>CA4900640</td>\n",
       "      <td>SONOMA COUNTY MUTUAL WATER COMPANY</td>\n",
       "      <td>COMMUNITY</td>\n",
       "      <td>40</td>\n",
       "      <td>18</td>\n",
       "      <td>SONOMA</td>\n",
       "      <td>CAZADERO</td>\n",
       "      <td>95421</td>\n",
       "      <td>9803005</td>\n",
       "      <td>FAILURE TO FILTER (SWTR)</td>\n",
       "      <td>SWTR</td>\n",
       "      <td></td>\n",
       "      <td></td>\n",
       "      <td>2013-02-01</td>\n",
       "      <td>NaN</td>\n",
       "      <td>1218005</td>\n",
       "      <td>2012-02-03</td>\n",
       "      <td>FORMAL ENFORCEMENT ACTION ISSUED</td>\n",
       "    </tr>\n",
       "    <tr>\n",
       "      <th>2908</th>\n",
       "      <td>DISTRICT 11 - MERCED</td>\n",
       "      <td>CA2000544</td>\n",
       "      <td>MADERA CO MD1-HIDDEN LAKE ESTATES</td>\n",
       "      <td>COMMUNITY</td>\n",
       "      <td>162</td>\n",
       "      <td>49</td>\n",
       "      <td>MADERA</td>\n",
       "      <td>FRIANT</td>\n",
       "      <td>93626</td>\n",
       "      <td>1000037</td>\n",
       "      <td>MCL,  AVERAGE</td>\n",
       "      <td>TOTAL HALOACETIC ACIDS (HAA5)</td>\n",
       "      <td>0.101 UG/L</td>\n",
       "      <td>0.060 UG/L</td>\n",
       "      <td>2018-07-01</td>\n",
       "      <td>2018-09-30</td>\n",
       "      <td>1</td>\n",
       "      <td>2014-12-01</td>\n",
       "      <td>FORMAL ENFORCEMENT ACTION ISSUED</td>\n",
       "    </tr>\n",
       "    <tr>\n",
       "      <th>875</th>\n",
       "      <td>DISTRICT 23 - FRESNO</td>\n",
       "      <td>CA1009039</td>\n",
       "      <td>PAPPAS &amp; CO (MENDOTA)</td>\n",
       "      <td>COMMUNITY</td>\n",
       "      <td>25</td>\n",
       "      <td>12</td>\n",
       "      <td>FRESNO</td>\n",
       "      <td>FRESNO</td>\n",
       "      <td>93711</td>\n",
       "      <td>1223032</td>\n",
       "      <td>MCL,  AVERAGE</td>\n",
       "      <td>TTHM</td>\n",
       "      <td>0.175 MG/L</td>\n",
       "      <td>0.080 MG/L</td>\n",
       "      <td>2013-07-01</td>\n",
       "      <td>2013-09-30</td>\n",
       "      <td>1223013</td>\n",
       "      <td>2014-11-07</td>\n",
       "      <td>STATE INTENTIONAL NO ACTION TAKEN</td>\n",
       "    </tr>\n",
       "    <tr>\n",
       "      <th>2287</th>\n",
       "      <td>DISTRICT 12 - VISALIA</td>\n",
       "      <td>CA1510012</td>\n",
       "      <td>LAMONT PUBLIC UTILITY DIST</td>\n",
       "      <td>COMMUNITY</td>\n",
       "      <td>19057</td>\n",
       "      <td>3300</td>\n",
       "      <td>KERN</td>\n",
       "      <td>LAMONT</td>\n",
       "      <td>93241</td>\n",
       "      <td>1212035</td>\n",
       "      <td>MCL,  AVERAGE</td>\n",
       "      <td>ARSENIC</td>\n",
       "      <td>.01050000 MG/L</td>\n",
       "      <td>0.010 MG/L</td>\n",
       "      <td>2012-01-01</td>\n",
       "      <td>2012-03-31</td>\n",
       "      <td>912012</td>\n",
       "      <td>2008-12-18</td>\n",
       "      <td>FORMAL ENFORCEMENT ACTION ISSUED</td>\n",
       "    </tr>\n",
       "    <tr>\n",
       "      <th>2067</th>\n",
       "      <td>DISTRICT 19 - TEHACHAPI</td>\n",
       "      <td>CA1502231</td>\n",
       "      <td>ROSAMOND SCHOOL WATER SYSTEM</td>\n",
       "      <td>NON-TRANSIENT NON-COMMUNITY</td>\n",
       "      <td>940</td>\n",
       "      <td>2</td>\n",
       "      <td>KERN</td>\n",
       "      <td>ROSAMOND</td>\n",
       "      <td>93560</td>\n",
       "      <td>9812010</td>\n",
       "      <td>MCL,  AVERAGE</td>\n",
       "      <td>ARSENIC</td>\n",
       "      <td>0.011 MG/L</td>\n",
       "      <td>0.010 MG/L</td>\n",
       "      <td>2015-07-01</td>\n",
       "      <td>2015-09-30</td>\n",
       "      <td>919016</td>\n",
       "      <td>2009-01-23</td>\n",
       "      <td>FORMAL ENFORCEMENT ACTION ISSUED</td>\n",
       "    </tr>\n",
       "    <tr>\n",
       "      <th>6195</th>\n",
       "      <td>DISTRICT 24 - TULARE</td>\n",
       "      <td>CA5410006</td>\n",
       "      <td>LINDSAY, CITY OF</td>\n",
       "      <td>COMMUNITY</td>\n",
       "      <td>14200</td>\n",
       "      <td>3021</td>\n",
       "      <td>TULARE</td>\n",
       "      <td>LINDSAY</td>\n",
       "      <td>93247</td>\n",
       "      <td>9112002</td>\n",
       "      <td>MCL,  AVERAGE</td>\n",
       "      <td>1,2-DIBROMO-3-CHLOROPROPANE</td>\n",
       "      <td>0.00041 MG/L</td>\n",
       "      <td>0.0002 MG/L</td>\n",
       "      <td>2012-10-01</td>\n",
       "      <td>2012-12-31</td>\n",
       "      <td>1212014</td>\n",
       "      <td>2012-03-16</td>\n",
       "      <td>FORMAL ENFORCEMENT ACTION ISSUED</td>\n",
       "    </tr>\n",
       "    <tr>\n",
       "      <th>5581</th>\n",
       "      <td>LPA80 - STANISLAUS COUNTY</td>\n",
       "      <td>CA5000085</td>\n",
       "      <td>GREEN RUN MOBILE ESTATES</td>\n",
       "      <td>COMMUNITY</td>\n",
       "      <td>100</td>\n",
       "      <td>46</td>\n",
       "      <td>STANISLAUS</td>\n",
       "      <td>TURLOCK</td>\n",
       "      <td>95380</td>\n",
       "      <td>1480002</td>\n",
       "      <td>MCL,  AVERAGE</td>\n",
       "      <td>ARSENIC</td>\n",
       "      <td>0.015 MG/L</td>\n",
       "      <td>0.010 MG/L</td>\n",
       "      <td>2014-01-31</td>\n",
       "      <td>2014-03-31</td>\n",
       "      <td>1180001</td>\n",
       "      <td>2010-03-19</td>\n",
       "      <td>FORMAL ENFORCEMENT ACTION ISSUED</td>\n",
       "    </tr>\n",
       "  </tbody>\n",
       "</table>\n",
       "</div>"
      ],
      "text/plain": [
       "                 REGULATING_AGENCY WATER_SYSTEM_NUMBER  \\\n",
       "3577  DISTRICT 13 - SAN BERNARDINO           CA2610003   \n",
       "1951         DISTRICT 12 - VISALIA           CA1500585   \n",
       "1551       DISTRICT 19 - TEHACHAPI           CA1500442   \n",
       "5416          DISTRICT 18 - SONOMA           CA4900640   \n",
       "2908          DISTRICT 11 - MERCED           CA2000544   \n",
       "875           DISTRICT 23 - FRESNO           CA1009039   \n",
       "2287         DISTRICT 12 - VISALIA           CA1510012   \n",
       "2067       DISTRICT 19 - TEHACHAPI           CA1502231   \n",
       "6195          DISTRICT 24 - TULARE           CA5410006   \n",
       "5581     LPA80 - STANISLAUS COUNTY           CA5000085   \n",
       "\n",
       "                       WATER_SYSTEM_NAME               CLASSIFICATION  \\\n",
       "3577                      BRIDGEPORT PUD                    COMMUNITY   \n",
       "1951   OASIS PROPERTY OWNERS ASSOCIATION                    COMMUNITY   \n",
       "1551                SUNSET APARTMENTS WS                    COMMUNITY   \n",
       "5416  SONOMA COUNTY MUTUAL WATER COMPANY                    COMMUNITY   \n",
       "2908   MADERA CO MD1-HIDDEN LAKE ESTATES                    COMMUNITY   \n",
       "875                PAPPAS & CO (MENDOTA)                    COMMUNITY   \n",
       "2287          LAMONT PUBLIC UTILITY DIST                    COMMUNITY   \n",
       "2067        ROSAMOND SCHOOL WATER SYSTEM  NON-TRANSIENT NON-COMMUNITY   \n",
       "6195                    LINDSAY, CITY OF                    COMMUNITY   \n",
       "5581            GREEN RUN MOBILE ESTATES                    COMMUNITY   \n",
       "\n",
       "      POPULATION  SERVICE_CONNECTIONS      COUNTY           CITY  ZIPCODE  \\\n",
       "3577        2150                  293        MONO     BRIDGEPORT    93517   \n",
       "1951         100                   39        KERN    BAKERSFIELD    93307   \n",
       "1551          37                   20        KERN  NORTH EDWARDS    93523   \n",
       "5416          40                   18      SONOMA       CAZADERO    95421   \n",
       "2908         162                   49      MADERA         FRIANT    93626   \n",
       "875           25                   12      FRESNO         FRESNO    93711   \n",
       "2287       19057                 3300        KERN         LAMONT    93241   \n",
       "2067         940                    2        KERN       ROSAMOND    93560   \n",
       "6195       14200                 3021      TULARE        LINDSAY    93247   \n",
       "5581         100                   46  STANISLAUS        TURLOCK    95380   \n",
       "\n",
       "      VIOLATION_NUMBER       VIOLATION_TYPE_NAME  \\\n",
       "3577           9913029             MCL,  AVERAGE   \n",
       "1951           9512008             MCL,  AVERAGE   \n",
       "1551           9612010             MCL,  AVERAGE   \n",
       "5416           9803005  FAILURE TO FILTER (SWTR)   \n",
       "2908           1000037             MCL,  AVERAGE   \n",
       "875            1223032             MCL,  AVERAGE   \n",
       "2287           1212035             MCL,  AVERAGE   \n",
       "2067           9812010             MCL,  AVERAGE   \n",
       "6195           9112002             MCL,  AVERAGE   \n",
       "5581           1480002             MCL,  AVERAGE   \n",
       "\n",
       "                       ANALYTE_NAME          RESULT          MCL  \\\n",
       "3577                        ARSENIC     0.0245 MG/L                \n",
       "1951                        ARSENIC      0.011 MG/L   0.010 MG/L   \n",
       "1551                        ARSENIC      0.039 MG/L   0.010 MG/L   \n",
       "5416                           SWTR                                \n",
       "2908  TOTAL HALOACETIC ACIDS (HAA5)      0.101 UG/L   0.060 UG/L   \n",
       "875                            TTHM      0.175 MG/L   0.080 MG/L   \n",
       "2287                        ARSENIC  .01050000 MG/L   0.010 MG/L   \n",
       "2067                        ARSENIC      0.011 MG/L   0.010 MG/L   \n",
       "6195    1,2-DIBROMO-3-CHLOROPROPANE    0.00041 MG/L  0.0002 MG/L   \n",
       "5581                        ARSENIC      0.015 MG/L   0.010 MG/L   \n",
       "\n",
       "     VIOL_BEGIN_DATE VIOL_END_DATE ENF_ACTION_NUMBER ENF_ACTION_ISSUE_DATE  \\\n",
       "3577      2018-04-01    2018-06-30           9913012            2015-03-06   \n",
       "1951      2014-01-01    2014-03-31            919013            2009-01-23   \n",
       "1551      2013-07-01    2013-09-30            919015            2009-01-28   \n",
       "5416      2013-02-01           NaN           1218005            2012-02-03   \n",
       "2908      2018-07-01    2018-09-30                 1            2014-12-01   \n",
       "875       2013-07-01    2013-09-30           1223013            2014-11-07   \n",
       "2287      2012-01-01    2012-03-31            912012            2008-12-18   \n",
       "2067      2015-07-01    2015-09-30            919016            2009-01-23   \n",
       "6195      2012-10-01    2012-12-31           1212014            2012-03-16   \n",
       "5581      2014-01-31    2014-03-31           1180001            2010-03-19   \n",
       "\n",
       "                 ENF_ACTION_TYPE_ISSUED  \n",
       "3577   FORMAL ENFORCEMENT ACTION ISSUED  \n",
       "1951   FORMAL ENFORCEMENT ACTION ISSUED  \n",
       "1551   FORMAL ENFORCEMENT ACTION ISSUED  \n",
       "5416   FORMAL ENFORCEMENT ACTION ISSUED  \n",
       "2908   FORMAL ENFORCEMENT ACTION ISSUED  \n",
       "875   STATE INTENTIONAL NO ACTION TAKEN  \n",
       "2287   FORMAL ENFORCEMENT ACTION ISSUED  \n",
       "2067   FORMAL ENFORCEMENT ACTION ISSUED  \n",
       "6195   FORMAL ENFORCEMENT ACTION ISSUED  \n",
       "5581   FORMAL ENFORCEMENT ACTION ISSUED  "
      ]
     },
     "execution_count": 4,
     "metadata": {},
     "output_type": "execute_result"
    }
   ],
   "source": [
    "df.sample(10)"
   ]
  },
  {
   "cell_type": "code",
   "execution_count": 5,
   "metadata": {},
   "outputs": [
    {
     "data": {
      "image/png": "[encoded data removed]",
      "text/plain": [
       "<Figure size 864x288 with 2 Axes>"
      ]
     },
     "metadata": {
      "needs_background": "light"
     },
     "output_type": "display_data"
    }
   ],
   "source": [
    "fig, axs = plt.subplots(1, 2, figsize=(12, 4))\n",
    "df.ENF_ACTION_TYPE_ISSUED.value_counts().plot.bar(title='Enforcement action type issued', ax=axs[0]);\n",
    "df.ANALYTE_NAME.value_counts().plot.bar(title='Analyte name', ax=axs[1]);"
   ]
  },
  {
   "cell_type": "code",
   "execution_count": 6,
   "metadata": {},
   "outputs": [
    {
     "data": {
      "text/plain": [
       "FORMAL ENFORCEMENT ACTION ISSUED                 5009\n",
       "STATE INTENTIONAL NO ACTION TAKEN                 356\n",
       "RETURN TO COMPLIANCE                              329\n",
       "OTHER INFORMAL ENFORCEMENT ACTION TAKEN           311\n",
       "INFORMAL ENFORCEMENT ACTION ISSUED                204\n",
       "CA STATE ACTION ISSUED                            169\n",
       "FORMAL ENFORCEMENT ACTION WITH PENALTY ISSUED      62\n",
       "US EPA FEDERAL ADMINSTRATIVE ORDER ON CONSENT      27\n",
       "Name: ENF_ACTION_TYPE_ISSUED, dtype: int64"
      ]
     },
     "execution_count": 6,
     "metadata": {},
     "output_type": "execute_result"
    }
   ],
   "source": [
    "df.ENF_ACTION_TYPE_ISSUED.value_counts()"
   ]
  },
  {
   "cell_type": "code",
   "execution_count": 27,
   "metadata": {},
   "outputs": [],
   "source": [
    "groups = df.groupby(['WATER_SYSTEM_NUMBER', 'ANALYTE_NAME'])\n",
    "\n",
    "last_ended_action = groups.apply(get_last_ended_action)"
   ]
  },
  {
   "cell_type": "markdown",
   "metadata": {},
   "source": [
    "Do not include water system/analyte combinations that ended with a return to compliance"
   ]
  },
  {
   "cell_type": "code",
   "execution_count": 28,
   "metadata": {},
   "outputs": [],
   "source": [
    "active_violations = last_ended_action[last_ended_action.ENF_ACTION_TYPE_ISSUED != 'RETURN TO COMPLIANCE']\n",
    "active_violations.reset_index(drop=True, inplace=True)"
   ]
  },
  {
   "cell_type": "markdown",
   "metadata": {},
   "source": [
    "# There are 330 water systems with at least one analyte out of compliance"
   ]
  },
  {
   "cell_type": "code",
   "execution_count": 29,
   "metadata": {},
   "outputs": [
    {
     "name": "stdout",
     "output_type": "stream",
     "text": [
      "330 water systems with at least one analyte out of compliance\n"
     ]
    }
   ],
   "source": [
    "print(f\"{active_violations.WATER_SYSTEM_NUMBER.unique().size} water systems with at least one analyte out of compliance\")"
   ]
  },
  {
   "cell_type": "markdown",
   "metadata": {},
   "source": [
    "We also compute a histogram of number of water systems with different numbers of analytes out of compliance."
   ]
  },
  {
   "cell_type": "code",
   "execution_count": 30,
   "metadata": {},
   "outputs": [
    {
     "data": {
      "image/png": "[encoded data removed]",
      "text/plain": [
       "<Figure size 432x288 with 1 Axes>"
      ]
     },
     "metadata": {
      "needs_background": "light"
     },
     "output_type": "display_data"
    }
   ],
   "source": [
    "fig, ax = plt.subplots();\n",
    "counts = active_violations.groupby('WATER_SYSTEM_NUMBER').apply(lambda x: len(x)).sort_values(ascending=False)\n",
    "counts.hist(bins=np.arange(1, max(counts) + 1, 1));\n",
    "ax.set_xlabel('Number of analytes out of compliance');\n",
    "ax.set_ylabel('Number of water systems');"
   ]
  },
  {
   "cell_type": "code",
   "execution_count": 41,
   "metadata": {},
   "outputs": [
    {
     "name": "stdout",
     "output_type": "stream",
     "text": [
      "1 million people affected\n"
     ]
    }
   ],
   "source": [
    "population_affected = active_violations.drop_duplicates(subset=['WATER_SYSTEM_NUMBER']).POPULATION.sum()\n",
    "print(f\"{utils.millify(population_affected)} people affected\")"
   ]
  }
 ],
 "metadata": {
  "kernelspec": {
   "display_name": "Python 3",
   "language": "python",
   "name": "python3"
  },
  "language_info": {
   "codemirror_mode": {
    "name": "ipython",
    "version": 3
   },
   "file_extension": ".py",
   "mimetype": "text/x-python",
   "name": "python",
   "nbconvert_exporter": "python",
   "pygments_lexer": "ipython3",
   "version": "3.6.0"
  }
 },
 "nbformat": 4,
 "nbformat_minor": 2
}
