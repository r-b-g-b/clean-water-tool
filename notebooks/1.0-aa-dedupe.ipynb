{
 "cells": [
  {
   "cell_type": "code",
   "execution_count": 1,
   "metadata": {},
   "outputs": [],
   "source": [
    "import pandas as pd\n",
    "import numpy as np\n",
    "import matplotlib.pyplot as plt\n",
    "%matplotlib inline"
   ]
  },
  {
   "cell_type": "code",
   "execution_count": 2,
   "metadata": {},
   "outputs": [],
   "source": [
    "def load_data(fn):\n",
    "    return pd.read_csv(fn)"
   ]
  },
  {
   "cell_type": "code",
   "execution_count": 3,
   "metadata": {},
   "outputs": [],
   "source": [
    "def exceedance_dedupe_1(df):\n",
    "    df = df[df['VIOL_END_DATE'].isnull()]\n",
    "    df = df.sort_values(['WATER_SYSTEM_NUMBER', 'VIOL_BEGIN_DATE'])\n",
    "    df = df.drop_duplicates('WATER_SYSTEM_NUMBER', keep='last')\n",
    "    df = df[df['ENF_ACTION_TYPE_ISSUED'] != 'RETURN TO COMPLIANCE']\n",
    "    return df\n",
    "\n",
    "def exceedance_dedupe_2(df):\n",
    "    df = df.sort_values(['WATER_SYSTEM_NUMBER', 'ENF_ACTION_ISSUE_DATE'])\n",
    "    df = df.drop_duplicates('WATER_SYSTEM_NUMBER', keep='last')\n",
    "    df = df[df['ENF_ACTION_TYPE_ISSUED'] != 'RETURN TO COMPLIANCE']\n",
    "    return df\n",
    "\n",
    "def exceedance_dedupe_3(df):\n",
    "    df = df.sort_values(['WATER_SYSTEM_NUMBER', 'VIOL_END_DATE'])\n",
    "    df = df.drop_duplicates('WATER_SYSTEM_NUMBER', keep='last')\n",
    "    df = df[df['ENF_ACTION_TYPE_ISSUED'] != 'RETURN TO COMPLIANCE']\n",
    "    return df"
   ]
  },
  {
   "cell_type": "code",
   "execution_count": 4,
   "metadata": {},
   "outputs": [],
   "source": [
    "exceedance_fn = '../data/interim/hr2w_exceedance.csv'\n",
    "compliance_fn = '../data/interim/hr2w_return_to_compliance.csv'"
   ]
  },
  {
   "cell_type": "code",
   "execution_count": 5,
   "metadata": {},
   "outputs": [],
   "source": [
    "exceedance = load_data(exceedance_fn)"
   ]
  },
  {
   "cell_type": "code",
   "execution_count": 6,
   "metadata": {},
   "outputs": [],
   "source": [
    "exceedance_one = exceedance_dedupe_1(exceedance)\n",
    "exceedance_two = exceedance_dedupe_2(exceedance)\n",
    "exceedance_three = exceedance_dedupe_3(exceedance)"
   ]
  },
  {
   "cell_type": "code",
   "execution_count": 7,
   "metadata": {},
   "outputs": [
    {
     "data": {
      "text/plain": [
       "(8, 20)"
      ]
     },
     "execution_count": 7,
     "metadata": {},
     "output_type": "execute_result"
    }
   ],
   "source": [
    "exceedance_one.shape"
   ]
  },
  {
   "cell_type": "code",
   "execution_count": 8,
   "metadata": {},
   "outputs": [
    {
     "data": {
      "text/plain": [
       "(309, 20)"
      ]
     },
     "execution_count": 8,
     "metadata": {},
     "output_type": "execute_result"
    }
   ],
   "source": [
    "exceedance_two.shape"
   ]
  },
  {
   "cell_type": "code",
   "execution_count": 9,
   "metadata": {},
   "outputs": [
    {
     "data": {
      "text/plain": [
       "(330, 20)"
      ]
     },
     "execution_count": 9,
     "metadata": {},
     "output_type": "execute_result"
    }
   ],
   "source": [
    "exceedance_three.shape"
   ]
  },
  {
   "cell_type": "code",
   "execution_count": null,
   "metadata": {},
   "outputs": [],
   "source": []
  }
 ],
 "metadata": {
  "kernelspec": {
   "display_name": "Python 3",
   "language": "python",
   "name": "python3"
  },
  "language_info": {
   "codemirror_mode": {
    "name": "ipython",
    "version": 3
   },
   "file_extension": ".py",
   "mimetype": "text/x-python",
   "name": "python",
   "nbconvert_exporter": "python",
   "pygments_lexer": "ipython3",
   "version": "3.7.3"
  }
 },
 "nbformat": 4,
 "nbformat_minor": 2
}
